{
  "nbformat": 4,
  "nbformat_minor": 0,
  "metadata": {
    "colab": {
      "provenance": []
    },
    "kernelspec": {
      "name": "python3",
      "display_name": "Python 3"
    },
    "language_info": {
      "name": "python"
    }
  },
  "cells": [
    {
      "cell_type": "markdown",
      "source": [
        "**Execution Cost function**"
      ],
      "metadata": {
        "id": "AVdwaTd96mgi"
      }
    },
    {
      "cell_type": "code",
      "execution_count": 1,
      "metadata": {
        "id": "qDrFLKaD6PZb"
      },
      "outputs": [],
      "source": [
        "# Execute Cost functions with Regression\n",
        "import numpy as np\n",
        "y_true=np.array([1,1,0,0,0,1])\n",
        "y_pred=np.array([0.7,0,1,0,0,0.8])"
      ]
    },
    {
      "cell_type": "markdown",
      "source": [
        "Mean Absolute Erorr"
      ],
      "metadata": {
        "id": "kedLbWIiBiGk"
      }
    },
    {
      "cell_type": "code",
      "source": [
        "# Calculate mean absolute erorr\n",
        "def mean_absolute_error(y_true,y_pred):\n",
        "  total=0\n",
        "  for true , predict in zip(y_true,y_pred):\n",
        "    total+=abs(true-predict)\n",
        "  mean_absolute_error=total/len(y_true)\n",
        "  return mean_absolute_error"
      ],
      "metadata": {
        "id": "RlO9We2H7GeE"
      },
      "execution_count": 2,
      "outputs": []
    },
    {
      "cell_type": "code",
      "source": [
        "print(f\"The value of Mean Absolute Erorr : {mean_absolute_error(y_true,y_pred)}\")"
      ],
      "metadata": {
        "colab": {
          "base_uri": "https://localhost:8080/"
        },
        "id": "EpUeE4KW8ITZ",
        "outputId": "48209969-abd9-4f02-ac04-cdee747003ce"
      },
      "execution_count": 3,
      "outputs": [
        {
          "output_type": "stream",
          "name": "stdout",
          "text": [
            "The value of Mean Absolute Erorr : 0.4166666666666667\n"
          ]
        }
      ]
    },
    {
      "cell_type": "code",
      "source": [
        "np.mean(np.abs(y_true-y_pred))"
      ],
      "metadata": {
        "colab": {
          "base_uri": "https://localhost:8080/"
        },
        "id": "PVTg7j7H8REh",
        "outputId": "e8ca04cf-0e2f-46ee-c636-1e28b14ea2e3"
      },
      "execution_count": 4,
      "outputs": [
        {
          "output_type": "execute_result",
          "data": {
            "text/plain": [
              "0.4166666666666667"
            ]
          },
          "metadata": {},
          "execution_count": 4
        }
      ]
    },
    {
      "cell_type": "markdown",
      "source": [
        "Mean square Erorr"
      ],
      "metadata": {
        "id": "8uefXD3WBkns"
      }
    },
    {
      "cell_type": "code",
      "source": [
        "# Calculate mean square erorr\n",
        "def mean_square_error(y_true,y_pred):\n",
        "  total=0\n",
        "  for true , predict in zip(y_true,y_pred):\n",
        "    total+=(true-predict)**2\n",
        "  mean_absolute_error=total/len(y_true)\n",
        "  return mean_absolute_error"
      ],
      "metadata": {
        "id": "8C3YfqJWByJj"
      },
      "execution_count": 5,
      "outputs": []
    },
    {
      "cell_type": "code",
      "source": [
        "print(f\"The value of Mean Square Erorr : {mean_square_error(y_true,y_pred)}\")"
      ],
      "metadata": {
        "colab": {
          "base_uri": "https://localhost:8080/"
        },
        "id": "4zz2kxJb885i",
        "outputId": "03bda7c2-6064-4176-e817-f657edefd296"
      },
      "execution_count": 6,
      "outputs": [
        {
          "output_type": "stream",
          "name": "stdout",
          "text": [
            "The value of Mean Square Erorr : 0.355\n"
          ]
        }
      ]
    },
    {
      "cell_type": "markdown",
      "source": [
        "Root Mean square Erorr"
      ],
      "metadata": {
        "id": "kWOmKWmCCJv_"
      }
    },
    {
      "cell_type": "code",
      "source": [
        "#Calculate root mean square erorr\n",
        "def root_mean_square_error(y_true,y_pred):\n",
        "  total=0\n",
        "  for true , predict in zip(y_true,y_pred):\n",
        "    total+=(true-predict)**2\n",
        "  mean_absolute_error=total/len(y_true)\n",
        "  return np.sqrt(mean_absolute_error)"
      ],
      "metadata": {
        "id": "d95ygF5-CHYv"
      },
      "execution_count": 7,
      "outputs": []
    },
    {
      "cell_type": "code",
      "source": [
        "print(f\"The value of Root Mean Square Erorr : {root_mean_square_error(y_true,y_pred)}\")"
      ],
      "metadata": {
        "colab": {
          "base_uri": "https://localhost:8080/"
        },
        "id": "EgGHy2PzCay-",
        "outputId": "95e2b42d-c901-4e2c-8663-ce89a4026ad7"
      },
      "execution_count": 8,
      "outputs": [
        {
          "output_type": "stream",
          "name": "stdout",
          "text": [
            "The value of Root Mean Square Erorr : 0.5958187643906492\n"
          ]
        }
      ]
    },
    {
      "cell_type": "markdown",
      "source": [
        "Log Loss"
      ],
      "metadata": {
        "id": "j0KBGW8CEcqy"
      }
    },
    {
      "cell_type": "code",
      "source": [
        "# Solve proplem of log\n",
        "# Log of 0 will be undefined\n",
        "np.log(y_pred)"
      ],
      "metadata": {
        "colab": {
          "base_uri": "https://localhost:8080/"
        },
        "id": "kwJcuvkdEd49",
        "outputId": "3266616d-675c-41ed-cfb5-546bda854f94"
      },
      "execution_count": 9,
      "outputs": [
        {
          "output_type": "stream",
          "name": "stderr",
          "text": [
            "<ipython-input-9-d84867d3f845>:3: RuntimeWarning: divide by zero encountered in log\n",
            "  np.log(y_pred)\n"
          ]
        },
        {
          "output_type": "execute_result",
          "data": {
            "text/plain": [
              "array([-0.35667494,        -inf,  0.        ,        -inf,        -inf,\n",
              "       -0.22314355])"
            ]
          },
          "metadata": {},
          "execution_count": 9
        }
      ]
    },
    {
      "cell_type": "code",
      "source": [
        "#Solve the problem\n",
        "epsilon = 1e-15\n",
        "y_pred=[max(i,epsilon)for i in y_pred]"
      ],
      "metadata": {
        "id": "CnKTIAYcEkgd"
      },
      "execution_count": 10,
      "outputs": []
    },
    {
      "cell_type": "code",
      "source": [
        "y_pred=[min(i,1-epsilon)for i in y_pred]"
      ],
      "metadata": {
        "id": "Y_5bg-5xFJ1X"
      },
      "execution_count": 11,
      "outputs": []
    },
    {
      "cell_type": "code",
      "source": [
        "# Get log of y_pred again\n",
        "np.log(y_pred)"
      ],
      "metadata": {
        "colab": {
          "base_uri": "https://localhost:8080/"
        },
        "id": "UxZprAqyFWW_",
        "outputId": "bfc0c3c1-c964-4a1f-8e1a-2b0d29d01a81"
      },
      "execution_count": 12,
      "outputs": [
        {
          "output_type": "execute_result",
          "data": {
            "text/plain": [
              "array([-3.56674944e-01, -3.45387764e+01, -9.99200722e-16, -3.45387764e+01,\n",
              "       -3.45387764e+01, -2.23143551e-01])"
            ]
          },
          "metadata": {},
          "execution_count": 12
        }
      ]
    },
    {
      "cell_type": "code",
      "source": [
        "# Compute log loss\n",
        "def log_loss(y_true,y_pred):\n",
        "  total=0\n",
        "  for true , predict in zip(y_true,y_pred):\n",
        "    total+=true*np.log(predict) + (1-true)*np.log(1-predict)\n",
        "\n",
        "  log_loss_value=total * (-1/len(y_true))\n",
        "  return log_loss_value"
      ],
      "metadata": {
        "id": "uHCKxQpOFcgS"
      },
      "execution_count": 16,
      "outputs": []
    },
    {
      "cell_type": "code",
      "source": [
        "log_loss(y_true,y_pred)"
      ],
      "metadata": {
        "colab": {
          "base_uri": "https://localhost:8080/"
        },
        "id": "HPX9OGXoHA0F",
        "outputId": "d968d9b9-7a88-4a33-92c6-7ceea0e79266"
      },
      "execution_count": 17,
      "outputs": [
        {
          "output_type": "execute_result",
          "data": {
            "text/plain": [
              "11.609695147084084"
            ]
          },
          "metadata": {},
          "execution_count": 17
        }
      ]
    }
  ]
}